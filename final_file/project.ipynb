{
 "cells": [
  {
   "cell_type": "code",
   "execution_count": null,
   "metadata": {
    "vscode": {
     "languageId": "plaintext"
    }
   },
   "outputs": [],
   "source": [
    "import cv2\n",
    "import math\n",
    "import time\n",
    "import queue\n",
    "import threading\n",
    "\n",
    "from utils.thresholding import *\n",
    "from pynq import Overlay\n",
    "from pynq import MMIO\n",
    "import time"
   ]
  },
  {
   "cell_type": "code",
   "execution_count": null,
   "metadata": {
    "vscode": {
     "languageId": "plaintext"
    }
   },
   "outputs": [],
   "source": [
    "def set_bit(value, bit):\n",
    "    return value | (1 << bit)"
   ]
  },
  {
   "cell_type": "code",
   "execution_count": null,
   "metadata": {
    "vscode": {
     "languageId": "plaintext"
    }
   },
   "outputs": [],
   "source": [
    "# Speed = PWM. Direciton of wheel rotation = GPIO\n",
    "def control_motors(motor_en, l_forward, r_forward):\n",
    "    gpio_val = 0\n",
    "\n",
    "    # Set left motor bits\n",
    "    gpio_val |= 0x4 if l_forward else 0x8\n",
    "\n",
    "    # Set right motor bits\n",
    "    gpio_val |= 0x1 if r_forward else 0x2\n",
    "\n",
    "    # Write combined value once\n",
    "    motor_en.write(0x0, gpio_val)"
   ]
  },
  {
   "cell_type": "code",
   "execution_count": null,
   "metadata": {
    "vscode": {
     "languageId": "plaintext"
    }
   },
   "outputs": [],
   "source": [
    "def defuzz(low, high):\n",
    "    low_x = 0\n",
    "    high_x = 0\n",
    "    \n",
    "    if low > 0:\n",
    "        low_x = (low-1)/(-1/110)-100\n",
    "    else: \n",
    "        low_x = 80\n",
    "    \n",
    "    if high > 0:\n",
    "        high_x = (high-1)/(1/110)+100\n",
    "    else:\n",
    "        high_x = -80\n",
    "    \n",
    "    #print([low, high])\n",
    "    #print([low_x, high_x])\n",
    "    \n",
    "    speed = ((low_x*low)+(high_x*high))/(low+high)\n",
    "    if speed == 100:\n",
    "        speed = speed - 2\n",
    "    #print(speed)\n",
    "    return speed"
   ]
  },
  {
   "cell_type": "code",
   "execution_count": null,
   "metadata": {
    "vscode": {
     "languageId": "plaintext"
    }
   },
   "outputs": [],
   "source": [
    "def fuzzy_control(angle):\n",
    "    NF = 0\n",
    "    VC = 0\n",
    "    PF = 0\n",
    "    \n",
    "    # Fuzzification\n",
    "    # 1) NF\n",
    "    if angle <= 0:\n",
    "        if angle <= -50:\n",
    "            NF = 1 \n",
    "        else: \n",
    "            NF = angle / -50\n",
    "    \n",
    "    # 2) VC\n",
    "    if angle <= 45 and angle >= -45:\n",
    "        if angle < 0:\n",
    "            VC = (angle / 45) + 1\n",
    "        else:\n",
    "            VC = (angle / -45) + 1\n",
    "    \n",
    "    # 3) PF\n",
    "    if angle >= 0:\n",
    "        if angle >= 50: \n",
    "            PF = 1 \n",
    "        else:\n",
    "            PF = angle / 50\n",
    "    \n",
    "    #print([NF, VC, PF])\n",
    "    \n",
    "    # Inference\n",
    "    L_LOW = NF\n",
    "    L_HIGH = max(VC, PF)\n",
    "    \n",
    "    R_LOW = PF\n",
    "    R_HIGH = max(NF, VC)\n",
    "    \n",
    "    # Defuzzification\n",
    "    # 1) Left Wheels\n",
    "    l_speed = defuzz(L_LOW, L_HIGH)\n",
    "    \n",
    "    if l_speed > 99:\n",
    "        l_speed = 98;\n",
    "    elif l_speed < 1:\n",
    "        l_speed = 2;\n",
    "        \n",
    "    print(\"left wheels speed: \" + str(l_speed))\n",
    "    \n",
    "    # 2) Right Wheels\n",
    "    r_speed = defuzz(R_LOW, R_HIGH)\n",
    "    \n",
    "    if r_speed > 99:\n",
    "        r_speed = 98;\n",
    "    elif r_speed < 1:\n",
    "        r_speed = 2;\n",
    "        \n",
    "    print(\"right wheels speed: \" + str(r_speed))\n",
    "    \n",
    "    period = int((_period_ & 0x0ffff) *100);\n",
    "    r_pulse = int((int(r_speed) & 0x07f)*period/100);\n",
    "    l_pulse = int((int(l_speed) & 0x07f)*period/100);\n",
    "    \n",
    "    control_motors(motor_enable, l_forward, r_forward)\n",
    "\n",
    "    # Set period and duty cycle\n",
    "    right_motor.write(R_TLR0_address, period)\n",
    "    right_motor.write(R_TLR1_address, r_pulse)\n",
    "    left_motor.write(L_TLR0_address, period)\n",
    "    left_motor.write(L_TLR1_address, l_pulse)\n",
    "    \n",
    "    # Define the LOAD bits (1 << bit_offset)\n",
    "    R_LOAD0 = 1 << R_TCSR0_register['LOAD0']['bit_offset']\n",
    "    R_LOAD1 = 1 << R_TCSR1_register['LOAD1']['bit_offset']\n",
    "    L_LOAD0 = 1 << L_TCSR0_register['LOAD0']['bit_offset']\n",
    "    L_LOAD1 = 1 << L_TCSR1_register['LOAD1']['bit_offset']\n",
    "\n",
    "    # Pulse LOAD bits\n",
    "    right_motor.write(R_TCSR0_address, R_temp_val_0 | R_LOAD0)\n",
    "    right_motor.write(R_TCSR1_address, R_temp_val_1 | R_LOAD1)\n",
    "    left_motor.write(L_TCSR0_address, L_temp_val_0 | L_LOAD0)\n",
    "    left_motor.write(L_TCSR1_address, L_temp_val_1 | L_LOAD1)\n",
    "\n",
    "    # Re-enable timer (in case LOAD cleared ENT bits)\n",
    "    right_motor.write(R_TCSR0_address, R_temp_val_0)\n",
    "    right_motor.write(R_TCSR1_address, R_temp_val_1)\n",
    "    left_motor.write(L_TCSR0_address, L_temp_val_0)\n",
    "    left_motor.write(L_TCSR1_address, L_temp_val_1)\n",
    "\n",
    "    time.sleep(0.1)  # Prevent busy loop (optional)"
   ]
  },
  {
   "cell_type": "code",
   "execution_count": null,
   "metadata": {
    "vscode": {
     "languageId": "plaintext"
    }
   },
   "outputs": [],
   "source": [
    "def compute_lane_heading_angle(left_fit=None, right_fit=None, y_eval=200):\n",
    "    angles = []\n",
    "\n",
    "    def angle_from_fit(fit):\n",
    "        # Derivative of the 2nd-order polynomial at y = y_eval\n",
    "        dy = 1.0  # pixel change in y\n",
    "        dx = 2 * fit[0] * y_eval + fit[1]  # derivative at y_eval\n",
    "        angle_rad = np.arctan(dx)  # slope to angle\n",
    "        return -np.degrees(angle_rad)\n",
    "\n",
    "    if left_fit is not None:\n",
    "        angles.append(angle_from_fit(left_fit))\n",
    "    if right_fit is not None:\n",
    "        angles.append(angle_from_fit(right_fit))\n",
    "\n",
    "    if angles:\n",
    "        print(angles)\n",
    "        # Average heading angle from both lanes\n",
    "        return np.mean(angles)\n",
    "    else:\n",
    "        return None"
   ]
  },
  {
   "cell_type": "code",
   "execution_count": null,
   "metadata": {
    "vscode": {
     "languageId": "plaintext"
    }
   },
   "outputs": [],
   "source": [
    "def detect_lane_lines_connected_components(binary_warped):\n",
    "    # Ensure the input is binary (0 and 255)\n",
    "    binary = np.uint8(binary_warped * 255) if binary_warped.max() <= 1 else np.uint8(binary_warped)\n",
    "\n",
    "    # Apply connected components\n",
    "    num_labels, labels, stats, centroids = cv2.connectedComponentsWithStats(binary, connectivity=8)\n",
    "\n",
    "    # Image dimensions\n",
    "    height, width = binary.shape\n",
    "\n",
    "    # Store points\n",
    "    leftx, lefty, rightx, righty = [], [], [], []\n",
    "\n",
    "    for i in range(1, num_labels):  # Label 0 is background\n",
    "        x, y, w, h, area = stats[i]\n",
    "        cx, cy = centroids[i]\n",
    "\n",
    "        # Heuristic filters for likely lane lines\n",
    "        if area > 1000 and h > 30:\n",
    "            if cx < width // 2:\n",
    "                coords = np.column_stack(np.where(labels == i))\n",
    "                for pt in coords:\n",
    "                    lefty.append(pt[0])\n",
    "                    leftx.append(pt[1])\n",
    "            else:\n",
    "                coords = np.column_stack(np.where(labels == i))\n",
    "                for pt in coords:\n",
    "                    righty.append(pt[0])\n",
    "                    rightx.append(pt[1])\n",
    "\n",
    "    # Convert lists to numpy arrays\n",
    "    leftx = np.array(leftx)\n",
    "    lefty = np.array(lefty)\n",
    "    rightx = np.array(rightx)\n",
    "    righty = np.array(righty)\n",
    "\n",
    "    return leftx, lefty, rightx, righty"
   ]
  },
  {
   "cell_type": "code",
   "execution_count": null,
   "metadata": {
    "vscode": {
     "languageId": "plaintext"
    }
   },
   "outputs": [],
   "source": [
    "WIDTH = 640\n",
    "HEIGHT = 480\n",
    "\n",
    "frame_in_w = 640\n",
    "frame_in_h = 480\n",
    "\n",
    "# Change these variables based on our car.\n",
    "wheelbase = 0.1524 # Length of car from front to back in meters\n",
    "n = 5 # Angle gain\n",
    "\n",
    "ym_per_pix = 0.1524 / 72.0\n",
    "xm_per_pix = 0.2286 / 600.0\n",
    "y_eval = 210\n",
    "midx = 320\n",
    "\n",
    "y_bottom = HEIGHT\n",
    "y_top = int(HEIGHT * 0.4)\n",
    "#y_top = 0\n",
    "\n",
    "angle = 0\n",
    "kernel = np.ones((3, 3), np.uint8)  # Try 5x5 instead of 3x3"
   ]
  },
  {
   "cell_type": "code",
   "execution_count": null,
   "metadata": {
    "vscode": {
     "languageId": "plaintext"
    }
   },
   "outputs": [],
   "source": [
    "scale_factor_h = frame_in_w / 1280\n",
    "scale_factor_v = frame_in_h / 720\n",
    "offset = 200 * scale_factor_h\n",
    "src = np.float32([\n",
    "    [10, 300],\n",
    "    [630, 300],\n",
    "    [640, 410],\n",
    "    [0, 410]\n",
    "])\n",
    "\n",
    "dst = np.float32([[offset, 0], [frame_in_w - offset, 0], [frame_in_w - offset, frame_in_h], [offset, frame_in_h]])\n",
    "M = cv2.getPerspectiveTransform(src,dst)"
   ]
  },
  {
   "cell_type": "code",
   "execution_count": null,
   "metadata": {
    "vscode": {
     "languageId": "plaintext"
    }
   },
   "outputs": [],
   "source": [
    "def capture_frames(videoIn, frame_queue):\n",
    "    while True:\n",
    "        ret, frame = videoIn.read()\n",
    "        if not ret:\n",
    "            print(\"Failed to grab frame.\")\n",
    "            break\n",
    "        if frame_queue.full():\n",
    "            # If the queue is full (only 1 frame), remove the oldest frame\n",
    "            frame_queue.get()  # Discard the old frame to keep the queue size at 1\n",
    "        frame_queue.put(frame)"
   ]
  },
  {
   "cell_type": "code",
   "execution_count": null,
   "metadata": {
    "vscode": {
     "languageId": "plaintext"
    }
   },
   "outputs": [],
   "source": [
    "# PWM SETUP (Using MMIO).....\n",
    "# Load your custom overlay\n",
    "motor_control = Overlay(\"motor_control.bit\")\n",
    "\n",
    "right_motor = motor_control.axi_timer_0 #PMODB P3 for right PWM\n",
    "left_motor = motor_control.axi_timer_1  #PMODB P5 for left PWM\n",
    "\n",
    "# extract register addresses (will be the same for every Axi Timer)\n",
    "R_TCSR0 = motor_control.ip_dict['axi_timer_0']['registers']['TCSR0']\n",
    "R_TCSR1 = motor_control.ip_dict['axi_timer_0']['registers']['TCSR1']\n",
    "R_TCSR0_address = R_TCSR0['address_offset']\n",
    "R_TCSR1_address = R_TCSR1['address_offset']\n",
    "R_TCSR0_register = R_TCSR0['fields'] # bit_offset for address\n",
    "R_TCSR1_register = R_TCSR1['fields']\n",
    "R_TLR0 = motor_control.ip_dict['axi_timer_0']['registers']['TLR0']\n",
    "R_TLR1 = motor_control.ip_dict['axi_timer_0']['registers']['TLR1']\n",
    "R_TLR0_address = R_TLR0['address_offset']\n",
    "R_TLR1_address = R_TLR1['address_offset']\n",
    "\n",
    "# create the configuration values for the control register\n",
    "R_temp_val_0 = 0\n",
    "R_temp_val_1 = 0\n",
    "\n",
    "# The PWMA0 bit in TCSR0 and PWMB0 bit in TCSR1 must be set to 1 to enable PWM mode.\n",
    "R__temp_val_0 = set_bit(R_temp_val_0, R_TCSR0_register['PWMA0']['bit_offset'])\n",
    "R_temp_val_1 = set_bit(R_temp_val_1, R_TCSR1_register['PWMA1']['bit_offset'])\n",
    "\n",
    "# The GenerateOut signals must be enabled in the TCSR (bit GENT set to 1). The PWM0\n",
    "# signal is generated from the GenerateOut signals of Timer 0 and Timer 1, so these\n",
    "# signals must be enabled in both timer/counters\n",
    "R_temp_val_0 = set_bit(R_temp_val_0, R_TCSR0_register['GENT0']['bit_offset'])\n",
    "R_temp_val_1 = set_bit(R_temp_val_1, R_TCSR1_register['GENT1']['bit_offset'])\n",
    "\n",
    "# The counter can be set to count up or down. UDT\n",
    "R_temp_val_0 = set_bit(R_temp_val_0, R_TCSR0_register['UDT0']['bit_offset'])\n",
    "R_temp_val_1 = set_bit(R_temp_val_1, R_TCSR1_register['UDT1']['bit_offset'])\n",
    "\n",
    "# set Autoreload (ARHT0 = 1)\n",
    "R_temp_val_0 = set_bit(R_temp_val_0, R_TCSR0_register['ARHT0']['bit_offset'])\n",
    "R_temp_val_1 = set_bit(R_temp_val_1, R_TCSR1_register['ARHT1']['bit_offset'])\n",
    "\n",
    "# enable timer (ENT0 = 1)\n",
    "R_temp_val_0 = set_bit(R_temp_val_0, R_TCSR0_register['ENT0']['bit_offset'])\n",
    "R_temp_val_1 = set_bit(R_temp_val_1, R_TCSR1_register['ENT1']['bit_offset'])"
   ]
  },
  {
   "cell_type": "code",
   "execution_count": null,
   "metadata": {
    "vscode": {
     "languageId": "plaintext"
    }
   },
   "outputs": [],
   "source": [
    "L_TCSR0 = motor_control.ip_dict['axi_timer_1']['registers']['TCSR0']\n",
    "L_TCSR1 = motor_control.ip_dict['axi_timer_1']['registers']['TCSR1']\n",
    "L_TCSR0_address = L_TCSR0['address_offset']\n",
    "L_TCSR1_address = L_TCSR1['address_offset']\n",
    "L_TCSR0_register = L_TCSR0['fields'] # bit_offset for address\n",
    "L_TCSR1_register = L_TCSR1['fields']\n",
    "L_TLR0 = motor_control.ip_dict['axi_timer_1']['registers']['TLR0']\n",
    "L_TLR1 = motor_control.ip_dict['axi_timer_1']['registers']['TLR1']\n",
    "L_TLR0_address = L_TLR0['address_offset']\n",
    "L_TLR1_address = L_TLR1['address_offset']\n",
    "\n",
    "# create the configuration values for the control register\n",
    "L_temp_val_0 = 0\n",
    "L_temp_val_1 = 0\n",
    "\n",
    "# The PWMA0 bit in TCSR0 and PWMB0 bit in TCSR1 must be set to 1 to enable PWM mode.\n",
    "L_temp_val_0 = set_bit(L_temp_val_0, L_TCSR0_register['PWMA0']['bit_offset'])\n",
    "L_temp_val_1 = set_bit(L_temp_val_1, L_TCSR1_register['PWMA1']['bit_offset'])\n",
    "\n",
    "# The GenerateOut signals must be enabled in the TCSR (bit GENT set to 1). The PWM0\n",
    "# signal is generated from the GenerateOut signals of Timer 0 and Timer 1, so these\n",
    "# signals must be enabled in both timer/counters\n",
    "L_temp_val_0 = set_bit(L_temp_val_0, L_TCSR0_register['GENT0']['bit_offset'])\n",
    "L_temp_val_1 = set_bit(L_temp_val_1, L_TCSR1_register['GENT1']['bit_offset'])\n",
    "\n",
    "# The counter can be set to count up or down. UDT\n",
    "L_temp_val_0 = set_bit(L_temp_val_0, L_TCSR0_register['UDT0']['bit_offset'])\n",
    "L_temp_val_1 = set_bit(L_temp_val_1, L_TCSR1_register['UDT1']['bit_offset'])\n",
    "\n",
    "# set Autoreload (ARHT0 = 1)\n",
    "L_temp_val_0 = set_bit(L_temp_val_0, L_TCSR0_register['ARHT0']['bit_offset'])\n",
    "L_temp_val_1 = set_bit(L_temp_val_1, L_TCSR1_register['ARHT1']['bit_offset'])\n",
    "\n",
    "# enable timer (ENT0 = 1)\n",
    "L_temp_val_0 = set_bit(L_temp_val_0, L_TCSR0_register['ENT0']['bit_offset'])\n",
    "L_temp_val_1 = set_bit(L_temp_val_1, L_TCSR1_register['ENT1']['bit_offset'])"
   ]
  },
  {
   "cell_type": "code",
   "execution_count": null,
   "metadata": {
    "vscode": {
     "languageId": "plaintext"
    }
   },
   "outputs": [],
   "source": [
    "# GPIO SETUP (Using MMIO)......\n",
    "motor_enable_address = motor_control.ip_dict['axi_gpio_0']['phys_addr']\n",
    "motor_enable = MMIO(motor_enable_address, 8)\n",
    "motor_enable.write(0x4, 0x0) # Write to tri-state register to configure IO as OUTPUT\n",
    "\n",
    "_period_ = 10000000 # 50Hz, 20ms"
   ]
  },
  {
   "cell_type": "code",
   "execution_count": null,
   "metadata": {
    "vscode": {
     "languageId": "plaintext"
    }
   },
   "outputs": [],
   "source": [
    "# Load your custom overlay\n",
    "motor_control = Overlay(\"motor_control.bit\")\n",
    "\n",
    "# GPIO SETUP (Using MMIO)......\n",
    "motor_enable_address = motor_control.ip_dict['axi_gpio_0']['phys_addr']\n",
    "#RANGE = ??? Should be number of bytes. 8/4 = 2x 32-bit locations\n",
    "motor_enable = MMIO(motor_enable_address, 8) # Add RANGE if needed as second argument\n",
    "motor_enable.write(0x4, 0x0) # Write to tri-state register to configure IO as OUTPUT\n",
    "\n",
    "print(\"Program running\")\n",
    "\n",
    "time.sleep(15)\n",
    "\n",
    "videoIn = cv2.VideoCapture(0)\n",
    "videoIn.set(cv2.CAP_PROP_FRAME_WIDTH, frame_in_w)\n",
    "videoIn.set(cv2.CAP_PROP_FRAME_HEIGHT, frame_in_h)\n",
    "print(\"capture device is open: \" + str(videoIn.isOpened()))\n",
    "\n",
    "frame_queue = queue.Queue(maxsize=1)\n",
    "\n",
    "capture_thread = threading.Thread(target=capture_frames, args=(videoIn, frame_queue))\n",
    "capture_thread.daemon = True\n",
    "capture_thread.start()"
   ]
  },
  {
   "cell_type": "code",
   "execution_count": null,
   "metadata": {
    "vscode": {
     "languageId": "plaintext"
    }
   },
   "outputs": [],
   "source": [
    "while (True):\n",
    "    if frame_queue.empty():\n",
    "        continue    \n",
    "        \n",
    "    frame_vga = frame_queue.get()\n",
    "    \n",
    "    b_thresholded = threshold(frame_vga)\n",
    "    binary_warped = cv2.warpPerspective(b_thresholded,M, (frame_in_w, frame_in_h))[y_top:y_bottom, :]\n",
    "    kernel = np.ones((20, 20), np.uint8)\n",
    "    \n",
    "     # Clean small blobs\n",
    "    binary_cleaned = cv2.morphologyEx(binary_warped, cv2.MORPH_OPEN, kernel)\n",
    "\n",
    "    # Fill small gaps\n",
    "    binary_cleaned = cv2.morphologyEx(binary_cleaned, cv2.MORPH_CLOSE, kernel)\n",
    "    \n",
    "    leftx, lefty, rightx, righty = detect_lane_lines_connected_components(binary_cleaned)\n",
    "    \n",
    "    if leftx.size > 0 and lefty.size > 0 and rightx.size > 0 and righty.size > 0:\n",
    "        # Fit a second order polynomial to each\n",
    "        left_fit = np.polyfit(lefty, leftx, 2)\n",
    "        right_fit = np.polyfit(righty, rightx, 2)\n",
    "\n",
    "        angle = compute_lane_heading_angle(left_fit=left_fit, right_fit=right_fit, y_eval=y_eval)\n",
    "    elif leftx.size > 0 and lefty.size > 0:\n",
    "        # Fit a second order polynomial to each\n",
    "        left_fit = np.polyfit(lefty, leftx, 2)\n",
    "        right_fit = [0,0,0]\n",
    "\n",
    "        angle = compute_lane_heading_angle(left_fit=left_fit, y_eval=y_eval)\n",
    "    elif rightx.size > 0 and righty.size > 0:\n",
    "        # Fit a second order polynomial to each\n",
    "        left_fit = [0,0,0]\n",
    "        right_fit = np.polyfit(righty, rightx, 2)\n",
    "\n",
    "        angle = compute_lane_heading_angle(right_fit=right_fit, y_eval=y_eval)\n",
    "\n",
    "    print(\"Steering angle: \" + str(angle))\n",
    "    fuzzy_control(angle)    "
   ]
  }
 ],
 "metadata": {
  "language_info": {
   "name": "python"
  }
 },
 "nbformat": 4,
 "nbformat_minor": 2
}
